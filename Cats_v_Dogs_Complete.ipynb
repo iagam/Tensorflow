{
 "cells": [
  {
   "cell_type": "code",
   "execution_count": 1,
   "metadata": {},
   "outputs": [],
   "source": [
    "import os\n",
    "import zipfile\n",
    "import random\n",
    "import tensorflow as tf\n",
    "from tensorflow.keras.optimizers import RMSprop\n",
    "from tensorflow.keras.preprocessing.image import ImageDataGenerator\n",
    "from shutil import copyfile"
   ]
  },
  {
   "cell_type": "code",
   "execution_count": 3,
   "metadata": {},
   "outputs": [],
   "source": [
    "local_zip = 'C:/Users/OYO/Desktop/Tensorflow/traincvsd.zip'\n",
    "\n",
    "zip_ref = zipfile.ZipFile(local_zip, 'r')\n",
    "\n",
    "zip_ref.extractall('tmp')\n",
    "zip_ref.close()"
   ]
  },
  {
   "cell_type": "code",
   "execution_count": 37,
   "metadata": {},
   "outputs": [],
   "source": [
    "os.mkdir('tmp/cats-v-dogs')\n",
    "os.mkdir('tmp/cats-v-dogs/cats')\n",
    "os.mkdir('tmp/cats-v-dogs/dogs')\n",
    "os.mkdir('tmp/cats-v-dogs/training')\n",
    "os.mkdir('tmp/cats-v-dogs/testing')\n",
    "os.mkdir('tmp/cats-v-dogs/training/cats')\n",
    "os.mkdir('tmp/cats-v-dogs/training/dogs')\n",
    "os.mkdir('tmp/cats-v-dogs/testing/cats')\n",
    "os.mkdir('tmp/cats-v-dogs/testing/dogs')\n"
   ]
  },
  {
   "cell_type": "code",
   "execution_count": 38,
   "metadata": {},
   "outputs": [],
   "source": [
    "for filename in os.listdir('tmp/train'):\n",
    "    if filename.startswith('cat'):\n",
    "        file = 'tmp/train/' + filename\n",
    "        destination = 'tmp/cats-v-dogs/cats/' + filename\n",
    "        if os.path.getsize(file) > 0:\n",
    "            copyfile(file, destination)\n",
    "        else:\n",
    "            print(filename + \" is zero length, so ignoring.\")\n",
    "    elif filename.startswith('dog'):\n",
    "        file = 'tmp/train/' + filename\n",
    "        destination = 'tmp/cats-v-dogs/dogs/' + filename\n",
    "        if os.path.getsize(file) > 0:\n",
    "            copyfile(file, destination)\n",
    "        else:\n",
    "            print(filename + \" is zero length, so ignoring.\")\n",
    "    else:\n",
    "        pass"
   ]
  },
  {
   "cell_type": "code",
   "execution_count": 46,
   "metadata": {},
   "outputs": [],
   "source": [
    "def split_data(SOURCE, TRAINING, TESTING, SPLIT_SIZE):\n",
    "    files = []\n",
    "    for filename in os.listdir(SOURCE):\n",
    "\n",
    "        file = SOURCE + filename\n",
    "        if os.path.getsize(file) > 0:\n",
    "            files.append(filename)\n",
    "        else:\n",
    "            print(filename + \" is zero length, so ignoring.\")\n",
    "\n",
    "\n",
    "    training_length = int(len(files) * SPLIT_SIZE)\n",
    "    testing_length = int(len(files) - training_length)\n",
    "    shuffled_set = random.sample(files, len(files))\n",
    "    training_set = shuffled_set[0:training_length]\n",
    "    testing_set = shuffled_set[-testing_length:]\n",
    "\n",
    "    for filename in training_set:\n",
    "        this_file = SOURCE + filename\n",
    "        destination = TRAINING + filename\n",
    "        copyfile(this_file, destination)\n",
    "\n",
    "    for filename in testing_set:\n",
    "        this_file = SOURCE + filename\n",
    "        destination = TESTING + filename\n",
    "        copyfile(this_file, destination)"
   ]
  },
  {
   "cell_type": "code",
   "execution_count": 47,
   "metadata": {},
   "outputs": [],
   "source": [
    "CAT_SOURCE_DIR = \"tmp/cats-v-dogs/cats/\"\n",
    "TRAINING_CATS_DIR = \"tmp/cats-v-dogs/training/cats/\"\n",
    "TESTING_CATS_DIR = \"tmp/cats-v-dogs/testing/cats/\"\n",
    "DOG_SOURCE_DIR = \"tmp/cats-v-dogs/dogs/\"\n",
    "TRAINING_DOGS_DIR = \"tmp/cats-v-dogs/training/dogs/\"\n",
    "TESTING_DOGS_DIR = \"tmp/cats-v-dogs/testing/dogs/\"\n",
    "\n",
    "split_size = .9\n",
    "split_data(CAT_SOURCE_DIR, TRAINING_CATS_DIR, TESTING_CATS_DIR, split_size)\n",
    "split_data(DOG_SOURCE_DIR, TRAINING_DOGS_DIR, TESTING_DOGS_DIR, split_size)"
   ]
  },
  {
   "cell_type": "code",
   "execution_count": 49,
   "metadata": {},
   "outputs": [
    {
     "name": "stdout",
     "output_type": "stream",
     "text": [
      "11250\n",
      "11250\n",
      "1250\n",
      "1250\n"
     ]
    }
   ],
   "source": [
    "print(len(os.listdir('tmp/cats-v-dogs/training/cats/')))\n",
    "print(len(os.listdir('tmp/cats-v-dogs/training/dogs/')))\n",
    "print(len(os.listdir('tmp/cats-v-dogs/testing/dogs/')))\n",
    "print(len(os.listdir('tmp/cats-v-dogs/testing/dogs/')))"
   ]
  },
  {
   "cell_type": "code",
   "execution_count": 53,
   "metadata": {},
   "outputs": [],
   "source": [
    "model = tf.keras.Sequential([\n",
    "    tf.keras.layers.Conv2D(16,(3,3),activation='relu',input_shape=(150,150,3)),\n",
    "    tf.keras.layers.MaxPool2D(2,2),\n",
    "    tf.keras.layers.Conv2D(32, (3,3), activation=\"relu\"),\n",
    "    tf.keras.layers.MaxPool2D(2,2),\n",
    "    tf.keras.layers.Conv2D(64,(3,3),activation=\"relu\"),\n",
    "    tf.keras.layers.MaxPool2D(2,2),\n",
    "    tf.keras.layers.Flatten(),\n",
    "    tf.keras.layers.Dense(512,activation='relu'),\n",
    "    tf.keras.layers.Dense(1, activation='sigmoid')\n",
    "])\n",
    "\n",
    "model.compile(optimizer=RMSprop(lr=0.001), loss='binary_crossentropy', metrics=['acc'])"
   ]
  },
  {
   "cell_type": "code",
   "execution_count": 54,
   "metadata": {},
   "outputs": [
    {
     "name": "stdout",
     "output_type": "stream",
     "text": [
      "Model: \"sequential_1\"\n",
      "_________________________________________________________________\n",
      "Layer (type)                 Output Shape              Param #   \n",
      "=================================================================\n",
      "conv2d_3 (Conv2D)            (None, 148, 148, 16)      448       \n",
      "_________________________________________________________________\n",
      "max_pooling2d_3 (MaxPooling2 (None, 74, 74, 16)        0         \n",
      "_________________________________________________________________\n",
      "conv2d_4 (Conv2D)            (None, 72, 72, 32)        4640      \n",
      "_________________________________________________________________\n",
      "max_pooling2d_4 (MaxPooling2 (None, 36, 36, 32)        0         \n",
      "_________________________________________________________________\n",
      "conv2d_5 (Conv2D)            (None, 34, 34, 64)        18496     \n",
      "_________________________________________________________________\n",
      "max_pooling2d_5 (MaxPooling2 (None, 17, 17, 64)        0         \n",
      "_________________________________________________________________\n",
      "flatten_1 (Flatten)          (None, 18496)             0         \n",
      "_________________________________________________________________\n",
      "dense_2 (Dense)              (None, 512)               9470464   \n",
      "_________________________________________________________________\n",
      "dense_3 (Dense)              (None, 1)                 513       \n",
      "=================================================================\n",
      "Total params: 9,494,561\n",
      "Trainable params: 9,494,561\n",
      "Non-trainable params: 0\n",
      "_________________________________________________________________\n"
     ]
    }
   ],
   "source": [
    "model.summary()"
   ]
  },
  {
   "cell_type": "code",
   "execution_count": 55,
   "metadata": {},
   "outputs": [
    {
     "name": "stdout",
     "output_type": "stream",
     "text": [
      "Found 22500 images belonging to 2 classes.\n",
      "Found 2500 images belonging to 2 classes.\n"
     ]
    }
   ],
   "source": [
    "TRAINING_DIR = \"tmp/cats-v-dogs/training/\"\n",
    "train_datagen = ImageDataGenerator(rescale=1.0/255.0)\n",
    "train_generator = train_datagen.flow_from_directory(TRAINING_DIR,\n",
    "                                                   batch_size=100,\n",
    "                                                   class_mode='binary',\n",
    "                                                   target_size=(150, 150))\n",
    "\n",
    "VALIDATION_DIR = \"tmp/cats-v-dogs/testing/\"\n",
    "validation_datagen = ImageDataGenerator(rescale=1.0/255.)\n",
    "validation_generator = validation_datagen.flow_from_directory(VALIDATION_DIR,\n",
    "                                                              batch_size=100,\n",
    "                                                              class_mode='binary',\n",
    "                                                              target_size=(150, 150))"
   ]
  },
  {
   "cell_type": "code",
   "execution_count": 56,
   "metadata": {},
   "outputs": [
    {
     "name": "stdout",
     "output_type": "stream",
     "text": [
      "Epoch 1/50\n",
      "225/225 [==============================] - 318s 1s/step - loss: 0.6847 - acc: 0.6439 - val_loss: 0.5405 - val_acc: 0.7244\n",
      "Epoch 2/50\n",
      "225/225 [==============================] - 324s 1s/step - loss: 0.5104 - acc: 0.7486 - val_loss: 0.5002 - val_acc: 0.7540\n",
      "Epoch 3/50\n",
      "225/225 [==============================] - 328s 1s/step - loss: 0.4440 - acc: 0.7930 - val_loss: 0.4331 - val_acc: 0.7976\n",
      "Epoch 4/50\n",
      "225/225 [==============================] - 335s 1s/step - loss: 0.3885 - acc: 0.8232 - val_loss: 0.4088 - val_acc: 0.8164\n",
      "Epoch 5/50\n",
      "225/225 [==============================] - 349s 2s/step - loss: 0.3296 - acc: 0.8580 - val_loss: 0.4049 - val_acc: 0.8252\n",
      "Epoch 6/50\n",
      "225/225 [==============================] - 325s 1s/step - loss: 0.2654 - acc: 0.8871 - val_loss: 0.4371 - val_acc: 0.8128\n",
      "Epoch 7/50\n",
      "225/225 [==============================] - 336s 1s/step - loss: 0.1967 - acc: 0.9208 - val_loss: 0.4539 - val_acc: 0.8316\n",
      "Epoch 8/50\n",
      "225/225 [==============================] - 332s 1s/step - loss: 0.1339 - acc: 0.9483 - val_loss: 0.5865 - val_acc: 0.8176\n",
      "Epoch 9/50\n",
      "225/225 [==============================] - 340s 2s/step - loss: 0.0875 - acc: 0.9687 - val_loss: 0.5705 - val_acc: 0.8132\n",
      "Epoch 10/50\n",
      "225/225 [==============================] - 320s 1s/step - loss: 0.0680 - acc: 0.9788 - val_loss: 0.6118 - val_acc: 0.8256\n",
      "Epoch 11/50\n",
      "225/225 [==============================] - 332s 1s/step - loss: 0.0405 - acc: 0.9864 - val_loss: 0.8240 - val_acc: 0.8184\n",
      "Epoch 12/50\n",
      "225/225 [==============================] - 332s 1s/step - loss: 0.0534 - acc: 0.9860 - val_loss: 0.8609 - val_acc: 0.8172\n",
      "Epoch 13/50\n",
      "225/225 [==============================] - 332s 1s/step - loss: 0.0542 - acc: 0.9880 - val_loss: 0.9201 - val_acc: 0.8184\n",
      "Epoch 14/50\n",
      "225/225 [==============================] - 333s 1s/step - loss: 0.0407 - acc: 0.9885 - val_loss: 0.9126 - val_acc: 0.8216\n",
      "Epoch 15/50\n",
      "225/225 [==============================] - 333s 1s/step - loss: 0.0742 - acc: 0.9892 - val_loss: 0.8771 - val_acc: 0.8132\n",
      "Epoch 16/50\n",
      "225/225 [==============================] - 332s 1s/step - loss: 0.0351 - acc: 0.9910 - val_loss: 1.1102 - val_acc: 0.8200\n",
      "Epoch 17/50\n",
      "225/225 [==============================] - 333s 1s/step - loss: 0.0299 - acc: 0.9925 - val_loss: 1.1902 - val_acc: 0.8152\n",
      "Epoch 18/50\n",
      "225/225 [==============================] - 332s 1s/step - loss: 0.0379 - acc: 0.9928 - val_loss: 1.2643 - val_acc: 0.8044\n",
      "Epoch 19/50\n",
      "225/225 [==============================] - 332s 1s/step - loss: 0.0383 - acc: 0.9936 - val_loss: 1.4136 - val_acc: 0.8096\n",
      "Epoch 20/50\n",
      "225/225 [==============================] - 332s 1s/step - loss: 0.0185 - acc: 0.9950 - val_loss: 1.3538 - val_acc: 0.8184\n",
      "Epoch 21/50\n",
      "225/225 [==============================] - 333s 1s/step - loss: 0.0356 - acc: 0.9932 - val_loss: 1.3974 - val_acc: 0.8180\n",
      "Epoch 22/50\n",
      "225/225 [==============================] - 333s 1s/step - loss: 0.0348 - acc: 0.9944 - val_loss: 1.3615 - val_acc: 0.8236\n",
      "Epoch 23/50\n",
      "225/225 [==============================] - 334s 1s/step - loss: 0.0335 - acc: 0.9927 - val_loss: 1.2932 - val_acc: 0.8152\n",
      "Epoch 24/50\n",
      "225/225 [==============================] - 333s 1s/step - loss: 0.0233 - acc: 0.9944 - val_loss: 1.5296 - val_acc: 0.8116\n",
      "Epoch 25/50\n",
      "225/225 [==============================] - 333s 1s/step - loss: 0.0164 - acc: 0.9957 - val_loss: 1.5109 - val_acc: 0.8184\n",
      "Epoch 26/50\n",
      "225/225 [==============================] - 312s 1s/step - loss: 0.0241 - acc: 0.9949 - val_loss: 1.4879 - val_acc: 0.8064\n",
      "Epoch 27/50\n",
      "225/225 [==============================] - 309s 1s/step - loss: 0.0163 - acc: 0.9966 - val_loss: 1.5210 - val_acc: 0.8200\n",
      "Epoch 28/50\n",
      "225/225 [==============================] - 313s 1s/step - loss: 0.0157 - acc: 0.9961 - val_loss: 1.6081 - val_acc: 0.8216\n",
      "Epoch 29/50\n",
      "225/225 [==============================] - 311s 1s/step - loss: 0.0291 - acc: 0.9953 - val_loss: 3.1842 - val_acc: 0.7660\n",
      "Epoch 30/50\n",
      "225/225 [==============================] - 322s 1s/step - loss: 0.0240 - acc: 0.9950 - val_loss: 1.5796 - val_acc: 0.8100\n",
      "Epoch 31/50\n",
      "225/225 [==============================] - 333s 1s/step - loss: 0.0189 - acc: 0.9953 - val_loss: 1.4676 - val_acc: 0.8004\n",
      "Epoch 32/50\n",
      "225/225 [==============================] - 339s 2s/step - loss: 0.0091 - acc: 0.9978 - val_loss: 1.8572 - val_acc: 0.8084\n",
      "Epoch 33/50\n",
      "225/225 [==============================] - 487s 2s/step - loss: 0.0427 - acc: 0.9942 - val_loss: 1.6569 - val_acc: 0.8236\n",
      "Epoch 34/50\n",
      "225/225 [==============================] - 490s 2s/step - loss: 0.0105 - acc: 0.9970 - val_loss: 2.0167 - val_acc: 0.7916\n",
      "Epoch 35/50\n",
      "225/225 [==============================] - 324s 1s/step - loss: 0.0296 - acc: 0.9944 - val_loss: 1.7423 - val_acc: 0.8196\n",
      "Epoch 36/50\n",
      "225/225 [==============================] - 324s 1s/step - loss: 0.0119 - acc: 0.9968 - val_loss: 1.8690 - val_acc: 0.8144\n",
      "Epoch 37/50\n",
      "225/225 [==============================] - 332s 1s/step - loss: 0.0089 - acc: 0.9973 - val_loss: 1.7984 - val_acc: 0.8188\n",
      "Epoch 38/50\n",
      "225/225 [==============================] - 342s 2s/step - loss: 0.0400 - acc: 0.9945 - val_loss: 1.9673 - val_acc: 0.7864\n",
      "Epoch 39/50\n",
      "225/225 [==============================] - 341s 2s/step - loss: 0.0305 - acc: 0.9958 - val_loss: 1.5975 - val_acc: 0.8140\n",
      "Epoch 40/50\n",
      "225/225 [==============================] - 342s 2s/step - loss: 0.0309 - acc: 0.9952 - val_loss: 2.0368 - val_acc: 0.8164\n",
      "Epoch 41/50\n",
      "225/225 [==============================] - 345s 2s/step - loss: 0.0154 - acc: 0.9971 - val_loss: 3.0768 - val_acc: 0.7712\n",
      "Epoch 42/50\n",
      "225/225 [==============================] - 343s 2s/step - loss: 0.0458 - acc: 0.9953 - val_loss: 1.8698 - val_acc: 0.8100\n",
      "Epoch 43/50\n",
      "225/225 [==============================] - 322s 1s/step - loss: 0.0230 - acc: 0.9964 - val_loss: 2.0378 - val_acc: 0.8088\n",
      "Epoch 44/50\n",
      "225/225 [==============================] - 343s 2s/step - loss: 0.0308 - acc: 0.9960 - val_loss: 1.9461 - val_acc: 0.8144\n",
      "Epoch 45/50\n",
      "225/225 [==============================] - 349s 2s/step - loss: 0.0242 - acc: 0.9960 - val_loss: 2.0223 - val_acc: 0.8064\n",
      "Epoch 46/50\n",
      "225/225 [==============================] - 359s 2s/step - loss: 0.0244 - acc: 0.9959 - val_loss: 1.9492 - val_acc: 0.8104\n",
      "Epoch 47/50\n",
      "225/225 [==============================] - 359s 2s/step - loss: 0.0167 - acc: 0.9979 - val_loss: 2.1955 - val_acc: 0.8172\n",
      "Epoch 48/50\n",
      "225/225 [==============================] - 335s 1s/step - loss: 0.0195 - acc: 0.9977 - val_loss: 2.2751 - val_acc: 0.8148\n",
      "Epoch 49/50\n",
      "225/225 [==============================] - 331s 1s/step - loss: 0.0166 - acc: 0.9964 - val_loss: 2.3481 - val_acc: 0.8060\n",
      "Epoch 50/50\n",
      "225/225 [==============================] - 332s 1s/step - loss: 0.0314 - acc: 0.9956 - val_loss: 2.2962 - val_acc: 0.8028\n"
     ]
    }
   ],
   "source": [
    "history = model.fit_generator(train_generator,\n",
    "                              epochs=50,\n",
    "                              verbose=1,\n",
    "                              validation_data=validation_generator)"
   ]
  },
  {
   "cell_type": "code",
   "execution_count": 57,
   "metadata": {},
   "outputs": [
    {
     "data": {
      "text/plain": [
       "<Figure size 432x288 with 0 Axes>"
      ]
     },
     "execution_count": 57,
     "metadata": {},
     "output_type": "execute_result"
    },
    {
     "data": {
      "image/png": "[encoded data removed]",
      "text/plain": [
       "<Figure size 432x288 with 1 Axes>"
      ]
     },
     "metadata": {
      "needs_background": "light"
     },
     "output_type": "display_data"
    },
    {
     "data": {
      "image/png": "[encoded data removed]",
      "text/plain": [
       "<Figure size 432x288 with 1 Axes>"
      ]
     },
     "metadata": {
      "needs_background": "light"
     },
     "output_type": "display_data"
    },
    {
     "data": {
      "text/plain": [
       "<Figure size 432x288 with 0 Axes>"
      ]
     },
     "metadata": {},
     "output_type": "display_data"
    }
   ],
   "source": [
    "%matplotlib inline\n",
    "\n",
    "import matplotlib.image  as mpimg\n",
    "import matplotlib.pyplot as plt\n",
    "\n",
    "#-----------------------------------------------------------\n",
    "# Retrieve a list of list results on training and test data\n",
    "# sets for each training epoch\n",
    "#-----------------------------------------------------------\n",
    "acc=history.history['acc']\n",
    "val_acc=history.history['val_acc']\n",
    "loss=history.history['loss']\n",
    "val_loss=history.history['val_loss']\n",
    "\n",
    "epochs=range(len(acc)) # Get number of epochs\n",
    "\n",
    "#------------------------------------------------\n",
    "# Plot training and validation accuracy per epoch\n",
    "#------------------------------------------------\n",
    "plt.plot(epochs, acc, 'r', \"Training Accuracy\")\n",
    "plt.plot(epochs, val_acc, 'b', \"Validation Accuracy\")\n",
    "plt.title('Training and validation accuracy')\n",
    "plt.figure()\n",
    "\n",
    "#------------------------------------------------\n",
    "# Plot training and validation loss per epoch\n",
    "#------------------------------------------------\n",
    "plt.plot(epochs, loss, 'r', \"Training Loss\")\n",
    "plt.plot(epochs, val_loss, 'b', \"Validation Loss\")\n",
    "plt.figure()"
   ]
  },
  {
   "cell_type": "code",
   "execution_count": null,
   "metadata": {},
   "outputs": [],
   "source": []
  }
 ],
 "metadata": {
  "kernelspec": {
   "display_name": "Python 3",
   "language": "python",
   "name": "python3"
  },
  "language_info": {
   "codemirror_mode": {
    "name": "ipython",
    "version": 3
   },
   "file_extension": ".py",
   "mimetype": "text/x-python",
   "name": "python",
   "nbconvert_exporter": "python",
   "pygments_lexer": "ipython3",
   "version": "3.7.4"
  }
 },
 "nbformat": 4,
 "nbformat_minor": 2
}
