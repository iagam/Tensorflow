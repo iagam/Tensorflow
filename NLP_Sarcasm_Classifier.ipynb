{
  "nbformat": 4,
  "nbformat_minor": 0,
  "metadata": {
    "colab": {
      "name": "NLP_Sarcasm_Classifier.ipynb",
      "provenance": [],
      "authorship_tag": "ABX9TyM0HYgZHfpMR1MHVD3XHFi1",
      "include_colab_link": true
    },
    "kernelspec": {
      "name": "python3",
      "display_name": "Python 3"
    },
    "accelerator": "GPU"
  },
  "cells": [
    {
      "cell_type": "markdown",
      "metadata": {
        "id": "view-in-github",
        "colab_type": "text"
      },
      "source": [
        "<a href=\"https://colab.research.google.com/github/iagam/Tensorflow/blob/master/NLP_Sarcasm_Classifier.ipynb\" target=\"_parent\"><img src=\"https://colab.research.google.com/assets/colab-badge.svg\" alt=\"Open In Colab\"/></a>"
      ]
    },
    {
      "cell_type": "code",
      "metadata": {
        "id": "GDRNzujgtfFL",
        "colab_type": "code",
        "colab": {
          "base_uri": "https://localhost:8080/",
          "height": 34
        },
        "outputId": "1830f940-be08-4ea3-b098-eb0861983eed"
      },
      "source": [
        "import tensorflow as tf\n",
        "import numpy as np\n",
        "tf.__version__"
      ],
      "execution_count": 6,
      "outputs": [
        {
          "output_type": "execute_result",
          "data": {
            "text/plain": [
              "'1.15.0'"
            ]
          },
          "metadata": {
            "tags": []
          },
          "execution_count": 6
        }
      ]
    },
    {
      "cell_type": "code",
      "metadata": {
        "id": "wjE55WJ-tsma",
        "colab_type": "code",
        "colab": {}
      },
      "source": [
        "import json\n",
        "\n",
        "with open('/tmp/sarcasm.json',\"r\") as f:\n",
        "    datastore = json.load(f)"
      ],
      "execution_count": 0,
      "outputs": []
    },
    {
      "cell_type": "code",
      "metadata": {
        "id": "lQr2gh2KuxBl",
        "colab_type": "code",
        "colab": {}
      },
      "source": [
        "sentences = []\n",
        "labels = []\n",
        "urls = []\n",
        "\n",
        "for item in datastore:\n",
        "    sentences.append(item['headline'])\n",
        "    urls.append(item['article_link'])\n",
        "    labels.append(item['is_sarcastic'])\n",
        "print(len(sentences))"
      ],
      "execution_count": 0,
      "outputs": []
    },
    {
      "cell_type": "code",
      "metadata": {
        "id": "Uje--x4eu0P4",
        "colab_type": "code",
        "colab": {}
      },
      "source": [
        "from tensorflow.keras.preprocessing.text import Tokenizer\n",
        "from tensorflow.keras.preprocessing.sequence import pad_sequences"
      ],
      "execution_count": 0,
      "outputs": []
    },
    {
      "cell_type": "markdown",
      "metadata": {
        "id": "81bkwJFSwgIl",
        "colab_type": "text"
      },
      "source": [
        "**Setting up the Hyperparameters**"
      ]
    },
    {
      "cell_type": "code",
      "metadata": {
        "id": "0XIEOQDHwcsy",
        "colab_type": "code",
        "colab": {}
      },
      "source": [
        "vocab_size = 10000\n",
        "embedding_dim = 16\n",
        "max_length = 32\n",
        "trunc_type = 'post'\n",
        "padding_type = 'post'\n",
        "oov_tok = \"<OOV>\"\n",
        "training_size = 20000"
      ],
      "execution_count": 0,
      "outputs": []
    },
    {
      "cell_type": "code",
      "metadata": {
        "id": "j_WuF9KExA1w",
        "colab_type": "code",
        "colab": {}
      },
      "source": [
        "training_sentences = sentences[0:training_size]\n",
        "testing_sentences = sentences[training_size:]\n",
        "\n",
        "training_labels = labels[0:training_size]\n",
        "testing_labels = labels[training_size:]\n"
      ],
      "execution_count": 0,
      "outputs": []
    },
    {
      "cell_type": "code",
      "metadata": {
        "id": "zuAFyTBwx2UP",
        "colab_type": "code",
        "colab": {}
      },
      "source": [
        "tokenizer = Tokenizer(num_words=vocab_size, oov_token=oov_tok)\n",
        "tokenizer.fit_on_texts(training_sentences)\n",
        "\n",
        "word_index = tokenizer.word_index\n",
        "\n",
        "training_sequences = tokenizer.texts_to_sequences(training_sentences)\n",
        "training_padded = pad_sequences(training_sequences, maxlen=max_length,\n",
        "                                padding = padding_type, truncating = trunc_type)\n",
        "\n",
        "testing_sequences = tokenizer.texts_to_sequences(testing_sentences)\n",
        "testing_padded = pad_sequences(testing_sequences, maxlen=max_length,\n",
        "                                padding = padding_type, truncating = trunc_type)"
      ],
      "execution_count": 0,
      "outputs": []
    },
    {
      "cell_type": "code",
      "metadata": {
        "id": "DH-AgbYPMMds",
        "colab_type": "code",
        "colab": {
          "base_uri": "https://localhost:8080/",
          "height": 462
        },
        "outputId": "2be3eb93-1f20-46a5-8a1a-0de104aabd22"
      },
      "source": [
        "model = tf.keras.Sequential([\n",
        "                             tf.keras.layers.Embedding(vocab_size, embedding_dim, input_length = max_length),\n",
        "                             tf.keras.layers.GlobalAveragePooling1D(),\n",
        "                             tf.keras.layers.Dense(24, activation=\"relu\"),\n",
        "                             tf.keras.layers.Dense(1, activation=\"sigmoid\")\n",
        "])\n",
        "\n",
        "model.compile(loss = 'binary_crossentropy', optimizer = \"adam\", metrics = [\"accuracy\"])\n",
        "model.summary()"
      ],
      "execution_count": 14,
      "outputs": [
        {
          "output_type": "stream",
          "text": [
            "WARNING:tensorflow:From /usr/local/lib/python3.6/dist-packages/tensorflow_core/python/keras/initializers.py:119: calling RandomUniform.__init__ (from tensorflow.python.ops.init_ops) with dtype is deprecated and will be removed in a future version.\n",
            "Instructions for updating:\n",
            "Call initializer instance with the dtype argument instead of passing it to the constructor\n",
            "WARNING:tensorflow:From /usr/local/lib/python3.6/dist-packages/tensorflow_core/python/ops/resource_variable_ops.py:1630: calling BaseResourceVariable.__init__ (from tensorflow.python.ops.resource_variable_ops) with constraint is deprecated and will be removed in a future version.\n",
            "Instructions for updating:\n",
            "If using Keras pass *_constraint arguments to layers.\n",
            "WARNING:tensorflow:From /usr/local/lib/python3.6/dist-packages/tensorflow_core/python/ops/nn_impl.py:183: where (from tensorflow.python.ops.array_ops) is deprecated and will be removed in a future version.\n",
            "Instructions for updating:\n",
            "Use tf.where in 2.0, which has the same broadcast rule as np.where\n",
            "Model: \"sequential\"\n",
            "_________________________________________________________________\n",
            "Layer (type)                 Output Shape              Param #   \n",
            "=================================================================\n",
            "embedding (Embedding)        (None, 32, 16)            160000    \n",
            "_________________________________________________________________\n",
            "global_average_pooling1d (Gl (None, 16)                0         \n",
            "_________________________________________________________________\n",
            "dense (Dense)                (None, 24)                408       \n",
            "_________________________________________________________________\n",
            "dense_1 (Dense)              (None, 1)                 25        \n",
            "=================================================================\n",
            "Total params: 160,433\n",
            "Trainable params: 160,433\n",
            "Non-trainable params: 0\n",
            "_________________________________________________________________\n"
          ],
          "name": "stdout"
        }
      ]
    },
    {
      "cell_type": "code",
      "metadata": {
        "id": "DyI44wWKPnQJ",
        "colab_type": "code",
        "colab": {
          "base_uri": "https://localhost:8080/",
          "height": 1000
        },
        "outputId": "20664dd3-da44-452a-e8de-15783b4e4e92"
      },
      "source": [
        "num_epochs = 30\n",
        "\n",
        "history = model.fit(training_padded, training_labels, epochs = num_epochs,\n",
        "                    validation_data = (testing_padded, testing_labels), verbose=2)"
      ],
      "execution_count": 15,
      "outputs": [
        {
          "output_type": "stream",
          "text": [
            "Train on 20000 samples, validate on 6709 samples\n",
            "Epoch 1/30\n",
            "20000/20000 - 5s - loss: 0.5742 - acc: 0.6981 - val_loss: 0.4015 - val_acc: 0.8310\n",
            "Epoch 2/30\n",
            "20000/20000 - 3s - loss: 0.3148 - acc: 0.8747 - val_loss: 0.3415 - val_acc: 0.8541\n",
            "Epoch 3/30\n",
            "20000/20000 - 3s - loss: 0.2367 - acc: 0.9080 - val_loss: 0.3403 - val_acc: 0.8556\n",
            "Epoch 4/30\n",
            "20000/20000 - 3s - loss: 0.1914 - acc: 0.9270 - val_loss: 0.3656 - val_acc: 0.8445\n",
            "Epoch 5/30\n",
            "20000/20000 - 3s - loss: 0.1593 - acc: 0.9418 - val_loss: 0.3880 - val_acc: 0.8518\n",
            "Epoch 6/30\n",
            "20000/20000 - 3s - loss: 0.1347 - acc: 0.9518 - val_loss: 0.4103 - val_acc: 0.8462\n",
            "Epoch 7/30\n",
            "20000/20000 - 3s - loss: 0.1175 - acc: 0.9603 - val_loss: 0.4421 - val_acc: 0.8433\n",
            "Epoch 8/30\n",
            "20000/20000 - 3s - loss: 0.1014 - acc: 0.9665 - val_loss: 0.4824 - val_acc: 0.8410\n",
            "Epoch 9/30\n",
            "20000/20000 - 3s - loss: 0.0881 - acc: 0.9721 - val_loss: 0.5269 - val_acc: 0.8334\n",
            "Epoch 10/30\n",
            "20000/20000 - 3s - loss: 0.0763 - acc: 0.9762 - val_loss: 0.5718 - val_acc: 0.8331\n",
            "Epoch 11/30\n",
            "20000/20000 - 3s - loss: 0.0679 - acc: 0.9789 - val_loss: 0.6034 - val_acc: 0.8290\n",
            "Epoch 12/30\n",
            "20000/20000 - 3s - loss: 0.0587 - acc: 0.9815 - val_loss: 0.6540 - val_acc: 0.8286\n",
            "Epoch 13/30\n",
            "20000/20000 - 3s - loss: 0.0521 - acc: 0.9850 - val_loss: 0.6959 - val_acc: 0.8274\n",
            "Epoch 14/30\n",
            "20000/20000 - 3s - loss: 0.0459 - acc: 0.9869 - val_loss: 0.7425 - val_acc: 0.8249\n",
            "Epoch 15/30\n",
            "20000/20000 - 3s - loss: 0.0405 - acc: 0.9887 - val_loss: 0.7967 - val_acc: 0.8232\n",
            "Epoch 16/30\n",
            "20000/20000 - 3s - loss: 0.0360 - acc: 0.9903 - val_loss: 0.8494 - val_acc: 0.8176\n",
            "Epoch 17/30\n",
            "20000/20000 - 3s - loss: 0.0326 - acc: 0.9913 - val_loss: 0.9197 - val_acc: 0.8207\n",
            "Epoch 18/30\n",
            "20000/20000 - 4s - loss: 0.0300 - acc: 0.9918 - val_loss: 0.9468 - val_acc: 0.8149\n",
            "Epoch 19/30\n",
            "20000/20000 - 3s - loss: 0.0258 - acc: 0.9930 - val_loss: 1.0149 - val_acc: 0.8141\n",
            "Epoch 20/30\n",
            "20000/20000 - 3s - loss: 0.0223 - acc: 0.9944 - val_loss: 1.0692 - val_acc: 0.8131\n",
            "Epoch 21/30\n",
            "20000/20000 - 3s - loss: 0.0199 - acc: 0.9949 - val_loss: 1.1060 - val_acc: 0.8106\n",
            "Epoch 22/30\n",
            "20000/20000 - 3s - loss: 0.0188 - acc: 0.9948 - val_loss: 1.1659 - val_acc: 0.8094\n",
            "Epoch 23/30\n",
            "20000/20000 - 3s - loss: 0.0173 - acc: 0.9954 - val_loss: 1.2402 - val_acc: 0.8074\n",
            "Epoch 24/30\n",
            "20000/20000 - 3s - loss: 0.0143 - acc: 0.9963 - val_loss: 1.3168 - val_acc: 0.8082\n",
            "Epoch 25/30\n",
            "20000/20000 - 3s - loss: 0.0129 - acc: 0.9969 - val_loss: 1.3406 - val_acc: 0.8037\n",
            "Epoch 26/30\n",
            "20000/20000 - 3s - loss: 0.0120 - acc: 0.9969 - val_loss: 1.3987 - val_acc: 0.8050\n",
            "Epoch 27/30\n",
            "20000/20000 - 3s - loss: 0.0111 - acc: 0.9971 - val_loss: 1.4573 - val_acc: 0.8022\n",
            "Epoch 28/30\n",
            "20000/20000 - 3s - loss: 0.0111 - acc: 0.9969 - val_loss: 1.4559 - val_acc: 0.7979\n",
            "Epoch 29/30\n",
            "20000/20000 - 3s - loss: 0.0100 - acc: 0.9973 - val_loss: 1.5727 - val_acc: 0.8027\n",
            "Epoch 30/30\n",
            "20000/20000 - 3s - loss: 0.0079 - acc: 0.9980 - val_loss: 1.6424 - val_acc: 0.8032\n"
          ],
          "name": "stdout"
        }
      ]
    },
    {
      "cell_type": "code",
      "metadata": {
        "id": "sYf4ZlY9QLYk",
        "colab_type": "code",
        "colab": {
          "base_uri": "https://localhost:8080/",
          "height": 541
        },
        "outputId": "4909f73b-6ccb-426d-8ff4-68837d516ecc"
      },
      "source": [
        "import matplotlib.pyplot as plt\n",
        "\n",
        "def plot_graphs(history, string):\n",
        "  plt.plot(history.history[string])\n",
        "  plt.plot(history.history['val_'+string])\n",
        "  plt.xlabel(\"Epochs\")\n",
        "  plt.ylabel(string)\n",
        "  plt.legend([string , 'val_'+string])\n",
        "  plt.show()\n",
        "\n",
        "plot_graphs(history,\"acc\")\n",
        "plot_graphs(history,\"loss\")"
      ],
      "execution_count": 16,
      "outputs": [
        {
          "output_type": "display_data",
          "data": {
            "image/png": "[encoded data removed]",
            "text/plain": [
              "<Figure size 432x288 with 1 Axes>"
            ]
          },
          "metadata": {
            "tags": []
          }
        },
        {
          "output_type": "display_data",
          "data": {
            "image/png": "[encoded data removed]",
            "text/plain": [
              "<Figure size 432x288 with 1 Axes>"
            ]
          },
          "metadata": {
            "tags": []
          }
        }
      ]
    }
  ]
}